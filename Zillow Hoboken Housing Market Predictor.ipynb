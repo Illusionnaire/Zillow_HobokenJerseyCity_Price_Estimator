{
 "cells": [
  {
   "cell_type": "markdown",
   "metadata": {},
   "source": [
    "# Zillow Hoboken and Jersey City Housing Market Predictor\n",
    "\n",
    "The following Jupyter notebook shows the creation of a housing market predictor thanks to the information visible on zillow. The project begins by scraping through the publicly available data on the zillow website and creating a dataset of houses from a specific zip code. In this case, Hoboken was used.\n",
    "\n",
    "Afterwards, the data is cleaned and put into a pandas dataframe to run machine running algorithms. Before starting the project, feature extraction and linear regression models for price were my two main goals, and so I will look to include those within this project.\n",
    "\n",
    "Both Beautiful Soup4 and Requests are needed to be installed into the python IDE for use.\n",
    "![title](installation.png)"
   ]
  },
  {
   "cell_type": "code",
   "execution_count": 85,
   "metadata": {},
   "outputs": [],
   "source": [
    "from lxml import html\n",
    "import requests\n",
    "from bs4 import BeautifulSoup\n",
    "import pandas as pd\n",
    "import numpy as np\n",
    "from math import sqrt"
   ]
  },
  {
   "cell_type": "code",
   "execution_count": 2,
   "metadata": {},
   "outputs": [
    {
     "name": "stdout",
     "output_type": "stream",
     "text": [
      "Total number of Properties:  40\n"
     ]
    }
   ],
   "source": [
    "#Zillow returns captcha pages with the simple url \"https://www.zillow.com/homes/Hoboken,-NJ_rb/\" so this alternative is used\n",
    "req_headers = {\n",
    "    'accept': 'text/html,application/xhtml+xml,application/xml;q=0.9,image/webp,image/apng,*/*;q=0.8',\n",
    "    'accept-encoding': 'gzip, deflate, br',\n",
    "    'accept-language': 'en-US,en;q=0.8',\n",
    "    'upgrade-insecure-requests': '1',\n",
    "    'user-agent': 'Mozilla/5.0 (Windows NT 10.0; Win64; x64) AppleWebKit/537.36 (KHTML, like Gecko) Chrome/61.0.3163.100 Safari/537.36'\n",
    "}\n",
    "with requests.Session() as s:\n",
    "   url = 'https://www.zillow.com/homes/Hoboken,-NJ_rb/'\n",
    "   r = s.get(url, headers=req_headers)\n",
    "\n",
    "#Gets the src code from the Zillow website \"Hoboken\" search\n",
    "src = r.content\n",
    "\n",
    "soup = BeautifulSoup(src,'lxml')\n",
    "links = soup.find_all(\"a\",{\"class\":\"list-card-link list-card-link-top-margin\"},href=True)\n",
    "\n",
    "print(\"Total number of Properties: \",len(links))\n"
   ]
  },
  {
   "cell_type": "markdown",
   "metadata": {},
   "source": [
    "Unfortunately, because Zillow limits its search results to a maximum of 40 a page, the URL above needed to constantly updated to the next page in order to get all of the links to each and every property.\n",
    "\n",
    "Afterwards, a CSV file was available with the links to 1,171 properties in both Jersey City and Hoboken.\n",
    "\n",
    "**csv_file = zillowpropertylinks.csv**\n",
    "\n",
    "These would later be scrapped further and inserted into a pandas dataframe for machine learning algorithms to run through and extract features from. Initially, the project was going to be run for Hoboken only, but given machine learning works better with more data, Jersey City properties were also included."
   ]
  },
  {
   "cell_type": "code",
   "execution_count": 3,
   "metadata": {},
   "outputs": [
    {
     "name": "stdout",
     "output_type": "stream",
     "text": [
      "Number of Total Links: 1171\n"
     ]
    },
    {
     "data": {
      "text/html": [
       "<div>\n",
       "<style scoped>\n",
       "    .dataframe tbody tr th:only-of-type {\n",
       "        vertical-align: middle;\n",
       "    }\n",
       "\n",
       "    .dataframe tbody tr th {\n",
       "        vertical-align: top;\n",
       "    }\n",
       "\n",
       "    .dataframe thead th {\n",
       "        text-align: right;\n",
       "    }\n",
       "</style>\n",
       "<table border=\"1\" class=\"dataframe\">\n",
       "  <thead>\n",
       "    <tr style=\"text-align: right;\">\n",
       "      <th></th>\n",
       "      <th>Urls:</th>\n",
       "    </tr>\n",
       "  </thead>\n",
       "  <tbody>\n",
       "    <tr>\n",
       "      <th>0</th>\n",
       "      <td>https://www.zillow.com/homedetails/1024-Adams-...</td>\n",
       "    </tr>\n",
       "    <tr>\n",
       "      <th>1</th>\n",
       "      <td>https://www.zillow.com/homedetails/1300-Grand-...</td>\n",
       "    </tr>\n",
       "    <tr>\n",
       "      <th>2</th>\n",
       "      <td>https://www.zillow.com/homedetails/117-Bloomfi...</td>\n",
       "    </tr>\n",
       "    <tr>\n",
       "      <th>3</th>\n",
       "      <td>https://www.zillow.com/homedetails/315-Monroe-...</td>\n",
       "    </tr>\n",
       "    <tr>\n",
       "      <th>4</th>\n",
       "      <td>https://www.zillow.com/homedetails/117-Bloomfi...</td>\n",
       "    </tr>\n",
       "  </tbody>\n",
       "</table>\n",
       "</div>"
      ],
      "text/plain": [
       "                                               Urls:\n",
       "0  https://www.zillow.com/homedetails/1024-Adams-...\n",
       "1  https://www.zillow.com/homedetails/1300-Grand-...\n",
       "2  https://www.zillow.com/homedetails/117-Bloomfi...\n",
       "3  https://www.zillow.com/homedetails/315-Monroe-...\n",
       "4  https://www.zillow.com/homedetails/117-Bloomfi..."
      ]
     },
     "execution_count": 3,
     "metadata": {},
     "output_type": "execute_result"
    }
   ],
   "source": [
    "propertylinks = pd.read_csv(\"zillowpropertylinks.csv\")\n",
    "print(\"Number of Total Links:\",len(propertylinks))\n",
    "propertylinks.head()"
   ]
  },
  {
   "cell_type": "markdown",
   "metadata": {},
   "source": [
    "After manually looking through the URLs for listings on zillow, the following information was chosen to be extracted. I believed that this would give the most relevant information towards prices as this was noted as a summarized value at the top of most listings.\n",
    "\n",
    "* Square Feet\n",
    "* Bathrooms\n",
    "* Bedrooms\n",
    "\n",
    "and of course these would be used in a supervised learning approach against it's own listed price\n",
    "\n",
    "* Price\n",
    "\n",
    "---\n",
    "\n",
    "Of course, this project can be improved in the future by extracting more information from zillow, as more is there, but I felt that these four features were sufficient enough for a proof of concept. Other things that are listed include:\n",
    "\n",
    "* Floor Type\n",
    "* Heating/Cooling System\n",
    "* Parking Spaces\n",
    "* Year Built\n",
    "* Construction Material\n",
    "* Total Rooms\n",
    "* Architectural Style"
   ]
  },
  {
   "cell_type": "code",
   "execution_count": 4,
   "metadata": {},
   "outputs": [
    {
     "name": "stdout",
     "output_type": "stream",
     "text": [
      "There was no information for this listing:  90\n",
      "There was no information for this listing:  130\n",
      "There was no information for this listing:  212\n",
      "There was no information for this listing:  216\n",
      "There was no information for this listing:  222\n",
      "There was no information for this listing:  273\n",
      "There was no information for this listing:  278\n",
      "There was no information for this listing:  281\n",
      "There was no information for this listing:  300\n",
      "There was no information for this listing:  320\n",
      "There was no information for this listing:  344\n",
      "There was no information for this listing:  377\n",
      "There was no information for this listing:  389\n",
      "There was no information for this listing:  413\n",
      "There was no information for this listing:  485\n",
      "There was no information for this listing:  558\n",
      "There was no information for this listing:  584\n",
      "There was no information for this listing:  631\n",
      "There was no information for this listing:  633\n",
      "There was no information for this listing:  639\n",
      "There was no information for this listing:  688\n",
      "There was no information for this listing:  709\n",
      "There was no information for this listing:  719\n",
      "There was no information for this listing:  739\n",
      "There was no information for this listing:  791\n",
      "There was no information for this listing:  800\n",
      "There was no information for this listing:  853\n",
      "There was no information for this listing:  877\n",
      "There was no information for this listing:  939\n",
      "There was no information for this listing:  953\n",
      "There was no information for this listing:  1009\n",
      "There was no information for this listing:  1023\n",
      "There was no information for this listing:  1042\n",
      "There was no information for this listing:  1061\n",
      "There was no information for this listing:  1064\n",
      "There was no information for this listing:  1074\n",
      "There was no information for this listing:  1134\n",
      "There was no information for this listing:  1158\n",
      "There was no information for this listing:  1165\n",
      "           price bedrooms bathrooms square feet\n",
      "0     $2,950,000     4 bd      5 ba  3,460 sqft\n",
      "1       $679,900     2 bd      1 ba    983 sqft\n",
      "2       $520,000     1 bd      1 ba    635 sqft\n",
      "3       $875,000     3 bd      2 ba  1,402 sqft\n",
      "4       $520,000     1 bd      1 ba    635 sqft\n",
      "...          ...      ...       ...         ...\n",
      "1166    $674,900     7 bd      3 ba     -- sqft\n",
      "1167    $625,000     1 bd      1 ba    843 sqft\n",
      "1168    $550,000     3 bd      2 ba  1,489 sqft\n",
      "1169    $699,000     2 bd      2 ba  1,056 sqft\n",
      "1170  $1,200,000     4 bd      5 ba  2,688 sqft\n",
      "\n",
      "[1171 rows x 4 columns]\n"
     ]
    }
   ],
   "source": [
    "data = np.empty([len(propertylinks),4],dtype=\"<U16\")\n",
    "\n",
    "for x in range(0,len(propertylinks)):\n",
    "    with requests.Session() as s:\n",
    "       url = propertylinks.loc[x,\"Urls:\"]\n",
    "       r = s.get(url, headers=req_headers)\n",
    "\n",
    "    content = r.content\n",
    "\n",
    "    soup2 = BeautifulSoup(content,'lxml')\n",
    "    summary = soup2.find(\"div\",{\"class\":\"ds-summary-row\"})\n",
    "\n",
    "    #From Summary Row get Bedrooms, Bathrooms and Square Feet\n",
    "    try:\n",
    "        addr_bbsqft = summary.findChildren(\"span\",{\"class\":\"ds-bed-bath-living-area\"})\n",
    "        for idx,n in enumerate(addr_bbsqft):\n",
    "            data[x][idx+1] =n.get_text()\n",
    "            \n",
    "        #From Summary Row get Price\n",
    "        addr_price = summary.findChild('h4')\n",
    "        data[x][0] = addr_price.get_text()\n",
    "    except AttributeError:\n",
    "        print(\"There was no information for this listing: \", x)\n",
    "\n",
    "info = pd.DataFrame(data,columns=[\"price\",\"bedrooms\",\"bathrooms\",\"square feet\"])\n",
    "print(info)"
   ]
  },
  {
   "cell_type": "markdown",
   "metadata": {},
   "source": [
    "The above scraping program was run through a loop through all the listings available in the Jersey City and Hoboken area. As it scrapped through the data, it inserted it into an array of the correct size and went onto the next one. As a safety measure for the scraper, the scraping was put through a try and catch in order to not error out the program if any of the properties did not have all the information sufficiently. Instead, the listing would just be skipped and the next one would run.\n",
    "\n",
    "Here is an example listing that did not have all the information available and was skipped in the program. (Number 90). As you can see, this value did not have a proper price listing and so supervised learning could not be used on it.\n",
    "\n",
    "![title](missingdata.jpg)"
   ]
  },
  {
   "cell_type": "code",
   "execution_count": 5,
   "metadata": {
    "scrolled": true
   },
   "outputs": [
    {
     "data": {
      "text/plain": [
       "-- sqft       64\n",
       "              59\n",
       "600 sqft      13\n",
       "750 sqft      12\n",
       "1,200 sqft    12\n",
       "              ..\n",
       "2,465 sqft     1\n",
       "1,779 sqft     1\n",
       "3,444 sqft     1\n",
       "309 sqft       1\n",
       "3,464 sqft     1\n",
       "Name: square feet, Length: 704, dtype: int64"
      ]
     },
     "execution_count": 5,
     "metadata": {},
     "output_type": "execute_result"
    }
   ],
   "source": [
    "info['square feet'].value_counts()"
   ]
  },
  {
   "cell_type": "code",
   "execution_count": 6,
   "metadata": {},
   "outputs": [
    {
     "data": {
      "text/plain": [
       "2 bd                346\n",
       "1 bd                248\n",
       "3 bd                209\n",
       "4 bd                 94\n",
       "6 bd                 51\n",
       "5 bd                 51\n",
       "-- bd                42\n",
       "                     39\n",
       "7 bd                 30\n",
       "8 bd                 23\n",
       "9 bd                  6\n",
       "10 bd                 5\n",
       "11 bd                 4\n",
       "2,500 Square Fee      4\n",
       "2,848 Square Fee      2\n",
       "3,101 Square Fee      1\n",
       "2,051 Square Fee      1\n",
       "2,150 Square Fee      1\n",
       "5,619 Square Fee      1\n",
       "2,126 Square Fee      1\n",
       "12 bd                 1\n",
       "2,757 Square Fee      1\n",
       "2,087 Square Fee      1\n",
       "3,049 Square Fee      1\n",
       "1,071 Square Fee      1\n",
       "910 Square Feet       1\n",
       "-- sqft               1\n",
       "18 bd                 1\n",
       "3,698 Square Fee      1\n",
       "23 bd                 1\n",
       "1,707 Square Fee      1\n",
       "1,751 Square Fee      1\n",
       "Name: bedrooms, dtype: int64"
      ]
     },
     "execution_count": 6,
     "metadata": {},
     "output_type": "execute_result"
    }
   ],
   "source": [
    "info['bedrooms'].value_counts()"
   ]
  },
  {
   "cell_type": "markdown",
   "metadata": {},
   "source": [
    "As you can see, even though some of the information is scrapped from the web, some of it may not be accurate or useful to our machine learning system, so for the next few steps we need to clean the data and prepare it for the machine learning algorithms. As can be seen in the bedrooms count as well, some of the values were missing data and so square feet values were placed into the area that should have had bedroom counts.\n",
    "\n",
    "'-- sqft' AND '' values within the category should be removed and at the end the value should be parsed into an integer. Similarly, the price needs to be parsed into an int and the bedrooms and bathrooms should be searched and remove the values that are equal to 0, as those are incorrectly set in zillow."
   ]
  },
  {
   "cell_type": "code",
   "execution_count": 28,
   "metadata": {},
   "outputs": [
    {
     "data": {
      "text/html": [
       "<div>\n",
       "<style scoped>\n",
       "    .dataframe tbody tr th:only-of-type {\n",
       "        vertical-align: middle;\n",
       "    }\n",
       "\n",
       "    .dataframe tbody tr th {\n",
       "        vertical-align: top;\n",
       "    }\n",
       "\n",
       "    .dataframe thead th {\n",
       "        text-align: right;\n",
       "    }\n",
       "</style>\n",
       "<table border=\"1\" class=\"dataframe\">\n",
       "  <thead>\n",
       "    <tr style=\"text-align: right;\">\n",
       "      <th></th>\n",
       "      <th>price</th>\n",
       "      <th>bedrooms</th>\n",
       "      <th>bathrooms</th>\n",
       "      <th>square feet</th>\n",
       "    </tr>\n",
       "  </thead>\n",
       "  <tbody>\n",
       "    <tr>\n",
       "      <th>0</th>\n",
       "      <td>2950000.0</td>\n",
       "      <td>4.0</td>\n",
       "      <td>5.0</td>\n",
       "      <td>3460.0</td>\n",
       "    </tr>\n",
       "    <tr>\n",
       "      <th>1</th>\n",
       "      <td>679900.0</td>\n",
       "      <td>2.0</td>\n",
       "      <td>1.0</td>\n",
       "      <td>983.0</td>\n",
       "    </tr>\n",
       "    <tr>\n",
       "      <th>2</th>\n",
       "      <td>520000.0</td>\n",
       "      <td>1.0</td>\n",
       "      <td>1.0</td>\n",
       "      <td>635.0</td>\n",
       "    </tr>\n",
       "    <tr>\n",
       "      <th>3</th>\n",
       "      <td>875000.0</td>\n",
       "      <td>3.0</td>\n",
       "      <td>2.0</td>\n",
       "      <td>1402.0</td>\n",
       "    </tr>\n",
       "    <tr>\n",
       "      <th>4</th>\n",
       "      <td>520000.0</td>\n",
       "      <td>1.0</td>\n",
       "      <td>1.0</td>\n",
       "      <td>635.0</td>\n",
       "    </tr>\n",
       "    <tr>\n",
       "      <th>...</th>\n",
       "      <td>...</td>\n",
       "      <td>...</td>\n",
       "      <td>...</td>\n",
       "      <td>...</td>\n",
       "    </tr>\n",
       "    <tr>\n",
       "      <th>1164</th>\n",
       "      <td>549000.0</td>\n",
       "      <td>2.0</td>\n",
       "      <td>1.0</td>\n",
       "      <td>1134.0</td>\n",
       "    </tr>\n",
       "    <tr>\n",
       "      <th>1167</th>\n",
       "      <td>625000.0</td>\n",
       "      <td>1.0</td>\n",
       "      <td>1.0</td>\n",
       "      <td>843.0</td>\n",
       "    </tr>\n",
       "    <tr>\n",
       "      <th>1168</th>\n",
       "      <td>550000.0</td>\n",
       "      <td>3.0</td>\n",
       "      <td>2.0</td>\n",
       "      <td>1489.0</td>\n",
       "    </tr>\n",
       "    <tr>\n",
       "      <th>1169</th>\n",
       "      <td>699000.0</td>\n",
       "      <td>2.0</td>\n",
       "      <td>2.0</td>\n",
       "      <td>1056.0</td>\n",
       "    </tr>\n",
       "    <tr>\n",
       "      <th>1170</th>\n",
       "      <td>1200000.0</td>\n",
       "      <td>4.0</td>\n",
       "      <td>5.0</td>\n",
       "      <td>2688.0</td>\n",
       "    </tr>\n",
       "  </tbody>\n",
       "</table>\n",
       "<p>981 rows × 4 columns</p>\n",
       "</div>"
      ],
      "text/plain": [
       "          price  bedrooms  bathrooms  square feet\n",
       "0     2950000.0       4.0        5.0       3460.0\n",
       "1      679900.0       2.0        1.0        983.0\n",
       "2      520000.0       1.0        1.0        635.0\n",
       "3      875000.0       3.0        2.0       1402.0\n",
       "4      520000.0       1.0        1.0        635.0\n",
       "...         ...       ...        ...          ...\n",
       "1164   549000.0       2.0        1.0       1134.0\n",
       "1167   625000.0       1.0        1.0        843.0\n",
       "1168   550000.0       3.0        2.0       1489.0\n",
       "1169   699000.0       2.0        2.0       1056.0\n",
       "1170  1200000.0       4.0        5.0       2688.0\n",
       "\n",
       "[981 rows x 4 columns]"
      ]
     },
     "execution_count": 28,
     "metadata": {},
     "output_type": "execute_result"
    }
   ],
   "source": [
    "info_filtered = info.copy()\n",
    "\n",
    "import warnings\n",
    "warnings.filterwarnings('ignore')\n",
    "\n",
    "def strip_after_space(x):\n",
    "    #If the value is a string, then remove anything after the first space symbol\n",
    "    sep = ' '\n",
    "    stripped = x.split(sep, 1)[0]\n",
    "    stripped = stripped.replace(',','')\n",
    "    stripped = stripped.replace('$','')\n",
    "\n",
    "    if isinstance(x, str):\n",
    "        return(stripped)\n",
    "    return(x)\n",
    "   \n",
    "info_filtered['square feet'] = info_filtered['square feet'].apply(strip_after_space)\n",
    "info_filtered['bedrooms'] = info_filtered['bedrooms'].apply(strip_after_space)\n",
    "info_filtered['bathrooms'] = info_filtered['bathrooms'].apply(strip_after_space)\n",
    "info_filtered['price'] = info_filtered['price'].apply(strip_after_space)\n",
    "\n",
    "info_filtered = info_filtered[~info_filtered['square feet'].str.contains('-')]\n",
    "info_filtered = info_filtered[~info_filtered['bedrooms'].str.contains('-')]\n",
    "info_filtered = info_filtered[~info_filtered['bathrooms'].str.contains('-')]\n",
    "info_filtered = info_filtered[~info_filtered['price'].str.contains('-')]\n",
    "info_filtered = info_filtered[info_filtered['square feet'].str.len() > 0]\n",
    "info_filtered = info_filtered[~info_filtered['price'].str.contains(\"Z|m|P\")]\n",
    "\n",
    "\n",
    "info_filtered['square feet'] = info_filtered['square feet'].astype('float')\n",
    "info_filtered['bedrooms'] = info_filtered['bedrooms'].astype('float')\n",
    "info_filtered['bathrooms'] = info_filtered['bathrooms'].astype('float')\n",
    "info_filtered['price'] = info_filtered['price'].astype('float')\n",
    "\n",
    "\n",
    "info_filtered"
   ]
  },
  {
   "cell_type": "markdown",
   "metadata": {},
   "source": [
    "At this point in the program, all of the individual listings are filtered into float values which will be useful with our machine learning algorithm. However, there are still outliers due to inconsistencies with the scraper. For instance, bedrooms may have inaccurately scrapped square feet into that category and have very large numbers. This happens when one of the values is empty so it assumes the next one and leaves the last one blank. However, after checking the values, it appears that the previous filtering did the work of dropping those values already, as 'square feet', the last category, would have been empty in all of those instances and those were filtered out. \n",
    "\n",
    "At the end of the filtering process, 981 properties were still available out of the 1171 that were initially scraped."
   ]
  },
  {
   "cell_type": "code",
   "execution_count": 30,
   "metadata": {},
   "outputs": [
    {
     "data": {
      "text/plain": [
       "2.0     332\n",
       "1.0     230\n",
       "3.0     188\n",
       "4.0      85\n",
       "5.0      44\n",
       "6.0      44\n",
       "7.0      25\n",
       "8.0      20\n",
       "9.0       6\n",
       "10.0      4\n",
       "11.0      2\n",
       "12.0      1\n",
       "Name: bedrooms, dtype: int64"
      ]
     },
     "execution_count": 30,
     "metadata": {},
     "output_type": "execute_result"
    }
   ],
   "source": [
    "info_filtered['bedrooms'].value_counts()"
   ]
  },
  {
   "cell_type": "code",
   "execution_count": 43,
   "metadata": {},
   "outputs": [
    {
     "data": {
      "text/plain": [
       "<matplotlib.axes._subplots.AxesSubplot at 0x14ca7be1b80>"
      ]
     },
     "execution_count": 43,
     "metadata": {},
     "output_type": "execute_result"
    },
    {
     "data": {
      "image/png": "[encoded data removed]",
      "text/plain": [
       "<Figure size 432x288 with 1 Axes>"
      ]
     },
     "metadata": {
      "needs_background": "light"
     },
     "output_type": "display_data"
    }
   ],
   "source": [
    "import matplotlib.pyplot as plt\n",
    "\n",
    "info_filtered.plot(kind=\"scatter\", x=\"bedrooms\", y=\"price\", alpha=0.2)"
   ]
  },
  {
   "cell_type": "code",
   "execution_count": 47,
   "metadata": {},
   "outputs": [
    {
     "data": {
      "text/plain": [
       "<matplotlib.axes._subplots.AxesSubplot at 0x14ca55de7c0>"
      ]
     },
     "execution_count": 47,
     "metadata": {},
     "output_type": "execute_result"
    },
    {
     "data": {
      "image/png": "[encoded data removed]",
      "text/plain": [
       "<Figure size 432x288 with 1 Axes>"
      ]
     },
     "metadata": {
      "needs_background": "light"
     },
     "output_type": "display_data"
    }
   ],
   "source": [
    "info_filtered.plot(kind=\"scatter\", x=\"bathrooms\", y=\"bedrooms\", alpha=0.2)"
   ]
  },
  {
   "cell_type": "code",
   "execution_count": 45,
   "metadata": {},
   "outputs": [
    {
     "data": {
      "text/plain": [
       "<matplotlib.axes._subplots.AxesSubplot at 0x14ca78ce520>"
      ]
     },
     "execution_count": 45,
     "metadata": {},
     "output_type": "execute_result"
    },
    {
     "data": {
      "image/png": "[encoded data removed]",
      "text/plain": [
       "<Figure size 432x288 with 1 Axes>"
      ]
     },
     "metadata": {
      "needs_background": "light"
     },
     "output_type": "display_data"
    }
   ],
   "source": [
    "info_filtered.plot(kind=\"scatter\", x=\"square feet\", y=\"price\", alpha=0.2)"
   ]
  },
  {
   "cell_type": "markdown",
   "metadata": {},
   "source": [
    "The data is visualized above to see if there are any trends or patterns among the listings. It appears at first glance that as square footage goes up price slightly increases. Similarly, more bedrooms usually has a positive correlation to more bathrooms."
   ]
  },
  {
   "cell_type": "code",
   "execution_count": 52,
   "metadata": {},
   "outputs": [
    {
     "name": "stdout",
     "output_type": "stream",
     "text": [
      "Training Data Size: 784\n",
      "Testing Data Size: 197\n"
     ]
    }
   ],
   "source": [
    "from sklearn.model_selection import train_test_split, GridSearchCV\n",
    "\n",
    "#Split up the given data into two separate arrays, one of training data and one of validation data\n",
    "train, test = train_test_split(info_filtered, test_size=0.2,random_state=1)\n",
    "\n",
    "X_train = train.drop(columns=['price'])\n",
    "Y_train = train['price']\n",
    "X_test = test.drop(columns=['price'])\n",
    "Y_test = test['price']\n",
    "\n",
    "print(\"Training Data Size:\", len(train))\n",
    "print(\"Testing Data Size:\", len(test))"
   ]
  },
  {
   "cell_type": "code",
   "execution_count": 59,
   "metadata": {},
   "outputs": [
    {
     "name": "stdout",
     "output_type": "stream",
     "text": [
      "Assuming the average case is taken as an estimate, this is the MSE value found. We look to beat this\n",
      "MSE_Null value:  553613698055.2928\n"
     ]
    }
   ],
   "source": [
    "MSE_null = 0\n",
    "\n",
    "for x in Y_test:\n",
    "    MSE_null += (Y_train.mean() - x)**2\n",
    "    \n",
    "MSE_null = MSE_null / len(Y_test)\n",
    "print(\"Assuming the average case is taken as an estimate, this is the MSE value found. We look to beat this\")\n",
    "print(\"MSE_Null value: \", MSE_null)"
   ]
  },
  {
   "cell_type": "code",
   "execution_count": 87,
   "metadata": {},
   "outputs": [
    {
     "name": "stdout",
     "output_type": "stream",
     "text": [
      "[(0.6670050679460154, 'square feet'), (0.1703965920139047, 'bathrooms'), (0.16259834004007984, 'bedrooms')]\n"
     ]
    }
   ],
   "source": [
    "from sklearn.ensemble import RandomForestRegressor\n",
    "from matplotlib import pyplot\n",
    "\n",
    "forest_reg = RandomForestRegressor()\n",
    "forest_reg.fit(X_train, Y_train)\n",
    "\n",
    "Y_pred = forest_reg.predict(X_test)\n",
    "\n",
    "y = sorted(zip(forest_reg.feature_importances_, X_train.columns), reverse=True)\n",
    "\n",
    "print(y)"
   ]
  },
  {
   "cell_type": "markdown",
   "metadata": {},
   "source": [
    "Based on the feature extraction of the Random Forest Regressor, it can be seen that the total amount of square feet actually dictates the price of a house far more than the bedrooms or bathrooms does. What's also interesting is actually how close the bedrooms and bathrooms are to dictating the price. In this case, it barely shows any difference between the two so people don't have any preference between bedroom and bathrooms when it comes between them paying more. "
   ]
  },
  {
   "cell_type": "code",
   "execution_count": 88,
   "metadata": {},
   "outputs": [
    {
     "name": "stdout",
     "output_type": "stream",
     "text": [
      "This is the MSE value after running with a random forest.\n",
      "MSE_RandomForest value:  696155.6359803266\n",
      "Forest Regressor Score:  0.12315385239066778\n"
     ]
    }
   ],
   "source": [
    "MSE_RandomForest = 0\n",
    "\n",
    "for idx, val in enumerate(Y_test):\n",
    "    MSE_RandomForest += (Y_pred[idx] - val)**2\n",
    "    \n",
    "MSE_RandomForest = sqrt(MSE_RandomForest / len(Y_test))\n",
    "print(\"This is the MSE value after running with a random forest.\")\n",
    "print(\"MSE_RandomForest value: \", MSE_RandomForest)\n",
    "print(\"Forest Regressor Score: \",forest_reg.score(X_test, Y_test))"
   ]
  },
  {
   "cell_type": "code",
   "execution_count": 58,
   "metadata": {},
   "outputs": [
    {
     "name": "stdout",
     "output_type": "stream",
     "text": [
      "Best parameters: {'n_estimators': 100, 'min_samples_leaf': 3, 'max_leaf_nodes': None, 'max_features': 'sqrt', 'max_depth': 9}\n"
     ]
    }
   ],
   "source": [
    "#Fine-tuned Random Forest HyperParameters\n",
    "from sklearn.model_selection import RandomizedSearchCV\n",
    "\n",
    "x1=[1,2,3,4,5,6,7,8,9,10]\n",
    "x2=[2,3,4,5,6,7,8,9,10]\n",
    "x3=[None,2,3,4,5,6,7,8,9,10]\n",
    "x4=[100,200,300,400,500]\n",
    "x5=[\"auto\",\"sqrt\",\"log2\",3,4,5,6,7,8,9,10]\n",
    "\n",
    "param_grid = [\n",
    "    {'n_estimators':x4,'max_depth':x3,'max_features':x5,\n",
    "     'max_leaf_nodes':x3,\"min_samples_leaf\":x1,}\n",
    "]\n",
    "\n",
    "search = RandomizedSearchCV(forest_reg,param_grid,n_iter=100,cv=5,random_state=1)\n",
    "search.fit(X_train,Y_train)\n",
    "\n",
    "print(\"Best parameters:\", search.best_params_)"
   ]
  },
  {
   "cell_type": "code",
   "execution_count": 60,
   "metadata": {},
   "outputs": [
    {
     "data": {
      "text/plain": [
       "[(0.5146885357684571, 'square feet'),\n",
       " (0.24707834773459553, 'bathrooms'),\n",
       " (0.23823311649694742, 'bedrooms')]"
      ]
     },
     "execution_count": 60,
     "metadata": {},
     "output_type": "execute_result"
    }
   ],
   "source": [
    "#Fine-tuned attempt at Random Forest Classification\n",
    "forest_reg = RandomForestRegressor(n_estimators=100,min_samples_leaf=3,max_leaf_nodes=None,max_features=\"sqrt\",max_depth=9)\n",
    "forest_reg.fit(X_train, Y_train)\n",
    "\n",
    "Y_pred = forest_reg.predict(X_test)\n",
    "\n",
    "sorted(zip(forest_reg.feature_importances_, X_train.columns), reverse=True)"
   ]
  },
  {
   "cell_type": "code",
   "execution_count": 86,
   "metadata": {},
   "outputs": [
    {
     "name": "stdout",
     "output_type": "stream",
     "text": [
      "This is the MSE value after running with a random forest.\n",
      "RMSE_RandomForest value:  680065.0516624679\n",
      "Forest Regressor Score:  0.16321935624973982\n"
     ]
    }
   ],
   "source": [
    "MSE_RandomForest = 0\n",
    "\n",
    "for idx, val in enumerate(Y_test):\n",
    "    MSE_RandomForest += (Y_pred[idx] - val)**2\n",
    "    \n",
    "MSE_RandomForest = sqrt(MSE_RandomForest / len(Y_test))\n",
    "print(\"This is the MSE value after running with a random forest.\")\n",
    "print(\"RMSE_RandomForest value: \", MSE_RandomForest)\n",
    "print(\"Forest Regressor Score: \",forest_reg.score(X_test, Y_test))"
   ]
  },
  {
   "cell_type": "markdown",
   "metadata": {},
   "source": [
    "After running the RandomizedSearchCV, the machine learning algorithm is able to look for better hyperparameters to try and find more correlations. The RandomizedSearchCV also runs through cross-validation in order to allow for less variance between different test/train cases and get a more accurate prediction.\n",
    "\n",
    "After the RandomizedSearchCV finished, a new random forest regressor was created with the best parameters of the previous one and ran again to see the feature importance values and the MSE/Regressor Score again. Both seemed to improve when the square footage was taken to be less important then initially expected and by having bathrooms a little more important than bedrooms. This follows traditional knowledge in house hunting as bathrooms, especially when sharing an apartment are more important when it comes to multiple bedroom houses. \n",
    "\n",
    "Interestingly, these values are only run through house purchases and not rental properties, but the same knowledge holds true."
   ]
  },
  {
   "cell_type": "markdown",
   "metadata": {},
   "source": [
    "In the future, I expect that adding more of the previously noted categories will be able to more accurately measure the price of a home versus its estimated price. With a score of 0.16 this is a fairly useless algorithm at its current state, but there is much more than can be done to improve it. Below is a table of estimations using this algorithm versus actual prices to understand more effectively how accurate the algorithm is."
   ]
  },
  {
   "cell_type": "code",
   "execution_count": 67,
   "metadata": {},
   "outputs": [
    {
     "data": {
      "text/plain": [
       "[(304941.25732044876, 179000.0, 125941.25732044876),\n",
       " (305749.2823602467, 187900.0, 117849.2823602467),\n",
       " (305749.2823602467, 187900.0, 117849.2823602467),\n",
       " (305749.2823602467, 234000.0, 71749.2823602467),\n",
       " (305749.2823602467, 329000.0, -23250.717639753304),\n",
       " (306525.4583442583, 360000.0, -53474.54165574169),\n",
       " (307202.6543442583, 415000.0, -107797.3456557417),\n",
       " (320383.0963282127, 325000.0, -4616.903671787295),\n",
       " (363125.8110509034, 379000.0, -15874.188949096599),\n",
       " (364324.9598156039, 465000.0, -100675.04018439609),\n",
       " (370397.1648030722, 415000.0, -44602.83519692777),\n",
       " (373732.25070661306, 190000.0, 183732.25070661306),\n",
       " (376901.00933756545, 384900.0, -7998.990662434546),\n",
       " (382054.7290485028, 465000.0, -82945.2709514972),\n",
       " (383882.9663068002, 400000.0, -16117.033693199803),\n",
       " (396745.3686105091, 439000.0, -42254.63138949091),\n",
       " (405358.8700858475, 499000.0, -93641.1299141525),\n",
       " (422530.69115259574, 224900.0, 197630.69115259574),\n",
       " (422530.69115259574, 455000.0, -32469.30884740426),\n",
       " (429552.82231923565, 499000.0, -69447.17768076435),\n",
       " (435337.11011413037, 170000.0, 265337.11011413037),\n",
       " (435989.77700111625, 418000.0, 17989.77700111625),\n",
       " (445016.266313615, 525000.0, -79983.73368638498),\n",
       " (446159.1165044978, 134900.0, 311259.1165044978),\n",
       " (453029.79799800436, 425000.0, 28029.79799800436),\n",
       " (456924.5465215504, 599000.0, -142075.4534784496),\n",
       " (457335.1940871286, 655000.0, -197664.80591287138),\n",
       " (459015.50065928325, 595000.0, -135984.49934071675),\n",
       " (463415.47577627643, 350000.0, 113415.47577627643),\n",
       " (468173.2589032605, 520000.0, -51826.74109673948),\n",
       " (469704.1707508583, 559999.0, -90294.82924914168),\n",
       " (470653.7023357292, 520000.0, -49346.297664270794),\n",
       " (472768.8819868302, 700000.0, -227231.1180131698),\n",
       " (477932.2694391055, 525000.0, -47067.73056089447),\n",
       " (485254.8687892782, 649000.0, -163745.1312107218),\n",
       " (486062.8690070891, 463900.0, 22162.869007089117),\n",
       " (488802.6534546158, 280000.0, 208802.6534546158),\n",
       " (493785.2751232085, 649000.0, -155214.72487679147),\n",
       " (494174.6819373076, 808000.0, -313825.3180626924),\n",
       " (494203.45744006505, 470000.0, 24203.457440065045),\n",
       " (494247.2130603658, 389000.0, 105247.21306036582),\n",
       " (497815.04219958984, 8800000.0, -8302184.95780041),\n",
       " (497821.9731654989, 590000.0, -92178.02683450113),\n",
       " (498143.2450370076, 569000.0, -70856.75496299239),\n",
       " (504541.64603946195, 299999.0, 204542.64603946195),\n",
       " (516715.0924726312, 660000.0, -143284.9075273688),\n",
       " (523149.0717679855, 642500.0, -119350.92823201453),\n",
       " (532970.7839639432, 492000.0, 40970.78396394325),\n",
       " (534513.7258866976, 599000.0, -64486.27411330235),\n",
       " (538229.1090482783, 574216.0, -35986.890951721696),\n",
       " (538516.9661911355, 610000.0, -71483.03380886454),\n",
       " (542494.5724838794, 275000.0, 267494.5724838794),\n",
       " (548811.8561855718, 895000.0, -346188.14381442824),\n",
       " (552019.0340803085, 425000.0, 127019.03408030851),\n",
       " (552697.2569599295, 549900.0, 2797.25695992948),\n",
       " (570927.5752356348, 315000.0, 255927.5752356348),\n",
       " (574682.3591898801, 315000.0, 259682.35918988008),\n",
       " (574682.3591898801, 424000.0, 150682.35918988008),\n",
       " (579626.0446312524, 649000.0, -69373.95536874759),\n",
       " (595433.0872486372, 629000.0, -33566.912751362775),\n",
       " (596460.2639384589, 319999.0, 276461.26393845887),\n",
       " (596460.2639384589, 685000.0, -88539.73606154113),\n",
       " (602393.9644485738, 225000.0, 377393.96444857377),\n",
       " (604151.6238988489, 500000.0, 104151.62389884889),\n",
       " (620142.0461297967, 759000.0, -138857.95387020335),\n",
       " (622272.6140310366, 825000.0, -202727.38596896338),\n",
       " (623256.2870611866, 758000.0, -134743.71293881338),\n",
       " (625066.0867882653, 325000.0, 300066.08678826527),\n",
       " (625555.349541999, 529900.0, 95655.34954199905),\n",
       " (631620.332015927, 450000.0, 181620.33201592695),\n",
       " (631620.332015927, 450000.0, 181620.33201592695),\n",
       " (636493.7597323434, 549000.0, 87493.75973234337),\n",
       " (636507.2266026251, 399000.0, 237507.2266026251),\n",
       " (638821.1605188544, 445000.0, 193821.1605188544),\n",
       " (638821.1605188544, 679000.0, -40178.83948114561),\n",
       " (638821.1605188544, 679000.0, -40178.83948114561),\n",
       " (638821.1605188544, 799995.0, -161173.8394811456),\n",
       " (644889.0199770912, 575000.0, 69889.01997709123),\n",
       " (646509.3959846527, 875000.0, -228490.60401534731),\n",
       " (647853.7661199484, 659000.0, -11146.233880051645),\n",
       " (657643.938167076, 745000.0, -87356.06183292402),\n",
       " (657852.8216493246, 639000.0, 18852.821649324615),\n",
       " (661156.9488756655, 595000.0, 66156.94887566555),\n",
       " (662617.4052457605, 845000.0, -182382.59475423954),\n",
       " (666730.8071387453, 665000.0, 1730.8071387453238),\n",
       " (666768.2281913769, 750000.0, -83231.7718086231),\n",
       " (689217.583870156, 850000.0, -160782.41612984403),\n",
       " (695583.0303054887, 559000.0, 136583.03030548873),\n",
       " (702441.0002128131, 650000.0, 52441.000212813145),\n",
       " (708982.6125219306, 778000.0, -69017.3874780694),\n",
       " (723052.9193577858, 319500.0, 403552.91935778584),\n",
       " (743519.1962421173, 675000.0, 68519.19624211732),\n",
       " (745439.6380561973, 650000.0, 95439.63805619732),\n",
       " (750943.9253935908, 799000.0, -48056.07460640918),\n",
       " (755695.7492890939, 530100.0, 225595.7492890939),\n",
       " (760494.5863255007, 475000.0, 285494.58632550074),\n",
       " (771447.778033305, 879000.0, -107552.22196669504),\n",
       " (777217.3055921526, 929000.0, -151782.69440784736),\n",
       " (780875.5441689979, 459000.0, 321875.5441689979),\n",
       " (780956.6104687196, 1075000.0, -294043.3895312804),\n",
       " (787241.7178695973, 899000.0, -111758.28213040275),\n",
       " (794250.3888460649, 899000.0, -104749.61115393508),\n",
       " (796434.6050713923, 1150000.0, -353565.39492860774),\n",
       " (799898.7413574376, 824900.0, -25001.258642562432),\n",
       " (804803.3041099204, 1750000.0, -945196.6958900796),\n",
       " (805150.1033266342, 1095000.0, -289849.89667336585),\n",
       " (812018.6172904257, 549000.0, 263018.6172904257),\n",
       " (814315.0163675462, 1204995.0, -390679.98363245383),\n",
       " (818405.7403876767, 698500.0, 119905.74038767675),\n",
       " (820399.8664699235, 1600000.0, -779600.1335300765),\n",
       " (821866.167393772, 775000.0, 46866.16739377205),\n",
       " (822292.2836437719, 850000.0, -27707.716356228106),\n",
       " (822874.5057271052, 989000.0, -166125.4942728948),\n",
       " (823804.686377899, 855000.0, -31195.313622100977),\n",
       " (823804.686377899, 999000.0, -175195.31362210098),\n",
       " (824224.5764886823, 1075000.0, -250775.4235113177),\n",
       " (824224.5764886823, 1099000.0, -274775.4235113177),\n",
       " (830120.3378320287, 695000.0, 135120.33783202874),\n",
       " (832844.8927252872, 980000.0, -147155.10727471276),\n",
       " (833971.2827950792, 719900.0, 114071.28279507917),\n",
       " (833971.2827950792, 899000.0, -65028.71720492083),\n",
       " (834316.4729629152, 689900.0, 144416.4729629152),\n",
       " (834316.4729629152, 979000.0, -144683.5270370848),\n",
       " (837083.0841760669, 989000.0, -151916.9158239331),\n",
       " (837083.0841760669, 1499888.0, -662804.9158239331),\n",
       " (839146.6172622894, 449500.0, 389646.6172622894),\n",
       " (843497.5176538375, 875000.0, -31502.48234616255),\n",
       " (847516.9370086762, 735000.0, 112516.93700867624),\n",
       " (849127.8920656856, 975000.0, -125872.10793431441),\n",
       " (849466.1028051962, 2380000.0, -1530533.8971948037),\n",
       " (854727.7982924405, 1299888.0, -445160.2017075595),\n",
       " (856400.349028441, 800000.0, 56400.34902844101),\n",
       " (856400.349028441, 999000.0, -142599.650971559),\n",
       " (859037.1729357796, 760000.0, 99037.17293577956),\n",
       " (864818.0722410696, 699900.0, 164918.07224106963),\n",
       " (864818.0722410696, 739000.0, 125818.07224106963),\n",
       " (869237.6240995437, 838888.0, 30349.624099543667),\n",
       " (870023.4014968692, 972888.0, -102864.59850313084),\n",
       " (872633.0256044188, 364999.0, 507634.0256044188),\n",
       " (875440.9413292101, 595000.0, 280440.94132921007),\n",
       " (875440.9413292101, 1785000.0, -909559.0586707899),\n",
       " (881241.388125342, 699000.0, 182241.38812534197),\n",
       " (881639.9263145892, 765000.0, 116639.92631458922),\n",
       " (897199.5608160825, 599000.0, 298199.5608160825),\n",
       " (898978.930855171, 1899999.0, -1001020.069144829),\n",
       " (899196.4934541383, 725000.0, 174196.49345413828),\n",
       " (899196.4934541383, 749000.0, 150196.49345413828),\n",
       " (904395.3670682514, 879000.0, 25395.367068251362),\n",
       " (907114.772897293, 349000.0, 558114.772897293),\n",
       " (915528.0162616642, 895000.0, 20528.01626166422),\n",
       " (916412.5880936205, 1938000.0, -1021587.4119063795),\n",
       " (918357.0523037659, 620000.0, 298357.0523037659),\n",
       " (918513.4351544954, 999999.0, -81485.56484550459),\n",
       " (919593.9630151055, 695000.0, 224593.96301510546),\n",
       " (920045.1951579626, 1395000.0, -474954.8048420374),\n",
       " (921282.2079654154, 979888.0, -58605.79203458456),\n",
       " (922540.6206591766, 715000.0, 207540.6206591766),\n",
       " (935463.1821176071, 649000.0, 286463.1821176071),\n",
       " (940312.8997399941, 1425000.0, -484687.1002600059),\n",
       " (968572.628883983, 1325000.0, -356427.371116017),\n",
       " (997645.6709521821, 749000.0, 248645.67095218215),\n",
       " (1034641.9946635604, 839000.0, 195641.9946635604),\n",
       " (1039067.7949933417, 945000.0, 94067.79499334167),\n",
       " (1049072.4028956073, 1189000.0, -139927.5971043927),\n",
       " (1057303.664032241, 1499000.0, -441696.3359677589),\n",
       " (1060591.346431199, 1049000.0, 11591.346431198996),\n",
       " (1060591.346431199, 1450000.0, -389408.653568801),\n",
       " (1077939.7865874344, 1299000.0, -221060.21341256564),\n",
       " (1085928.4436647266, 449000.0, 636928.4436647266),\n",
       " (1087750.5914394336, 859995.0, 227755.59143943363),\n",
       " (1093318.8755482296, 799000.0, 294318.87554822955),\n",
       " (1102620.6433621726, 925000.0, 177620.64336217265),\n",
       " (1103739.360331393, 1495000.0, -391260.6396686069),\n",
       " (1113726.680534579, 499000.0, 614726.6805345791),\n",
       " (1158312.606330799, 598000.0, 560312.6063307989),\n",
       " (1175221.7675487066, 1999999.0, -824777.2324512934),\n",
       " (1177040.3101519234, 1159000.0, 18040.310151923448),\n",
       " (1179122.6970341855, 1495000.0, -315877.3029658145),\n",
       " (1214714.7201944864, 2000000.0, -785285.2798055136),\n",
       " (1250254.1007374723, 950000.0, 300254.1007374723),\n",
       " (1255205.0413420186, 1349900.0, -94694.95865798136),\n",
       " (1307698.0488612494, 1599000.0, -291301.95113875065),\n",
       " (1309424.3662943996, 699000.0, 610424.3662943996),\n",
       " (1322931.2288073832, 2425000.0, -1102068.7711926168),\n",
       " (1347773.3804652365, 699000.0, 648773.3804652365),\n",
       " (1416178.4260008652, 1399999.0, 16179.426000865176),\n",
       " (1450828.4431294717, 2199999.0, -749170.5568705283),\n",
       " (1451312.2028476247, 1350000.0, 101312.20284762466),\n",
       " (1459524.7873609725, 739000.0, 720524.7873609725),\n",
       " (1486160.8704753474, 899000.0, 587160.8704753474),\n",
       " (1516262.6119161288, 1899000.0, -382737.3880838712),\n",
       " (1580035.4324335076, 1400000.0, 180035.43243350764),\n",
       " (1584009.9469994009, 590000.0, 994009.9469994009),\n",
       " (1639912.4889816968, 699000.0, 940912.4889816968),\n",
       " (2042390.503441495, 2500000.0, -457609.4965585051),\n",
       " (2213922.788516206, 2495000.0, -281077.2114837938),\n",
       " (2283460.850749982, 2800000.0, -516539.14925001794)]"
      ]
     },
     "execution_count": 67,
     "metadata": {},
     "output_type": "execute_result"
    }
   ],
   "source": [
    "sorted(zip(Y_pred,Y_test,(Y_pred - Y_test)))"
   ]
  },
  {
   "cell_type": "markdown",
   "metadata": {},
   "source": [
    "In the column above, the leftmost column is the estimated prices of houses, the middle column the actual price, and the right column the price difference."
   ]
  },
  {
   "cell_type": "code",
   "execution_count": null,
   "metadata": {},
   "outputs": [],
   "source": []
  }
 ],
 "metadata": {
  "kernelspec": {
   "display_name": "Python 3",
   "language": "python",
   "name": "python3"
  },
  "language_info": {
   "codemirror_mode": {
    "name": "ipython",
    "version": 3
   },
   "file_extension": ".py",
   "mimetype": "text/x-python",
   "name": "python",
   "nbconvert_exporter": "python",
   "pygments_lexer": "ipython3",
   "version": "3.8.3"
  }
 },
 "nbformat": 4,
 "nbformat_minor": 4
}
